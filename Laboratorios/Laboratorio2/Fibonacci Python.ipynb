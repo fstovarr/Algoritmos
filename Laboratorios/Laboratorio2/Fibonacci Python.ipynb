{
 "cells": [
  {
   "cell_type": "markdown",
   "metadata": {},
   "source": [
    "## Time for recursive fibonacci series"
   ]
  },
  {
   "cell_type": "markdown",
   "metadata": {},
   "source": [
    "Import the need libraries for time and plot"
   ]
  },
  {
   "cell_type": "code",
   "execution_count": 71,
   "metadata": {},
   "outputs": [],
   "source": [
    "%matplotlib inline\n",
    "from time import time\n",
    "import pandas as pd\n",
    "import timeit as ti"
   ]
  },
  {
   "cell_type": "markdown",
   "metadata": {},
   "source": [
    "Declare the fibonacci function in a iterative way"
   ]
  },
  {
   "cell_type": "code",
   "execution_count": 73,
   "metadata": {},
   "outputs": [],
   "source": [
    "def fib_i(i):\n",
    "    prev, act = 0, 1;\n",
    "    res = int(0);\n",
    "    \n",
    "    for j in range(0,i):\n",
    "        res = int(prev + act)\n",
    "        prev = act\n",
    "        act = res\n",
    "    \n",
    "    return int(res)"
   ]
  },
  {
   "cell_type": "markdown",
   "metadata": {},
   "source": [
    "Declare the fibonacci function in a recursive way"
   ]
  },
  {
   "cell_type": "code",
   "execution_count": 74,
   "metadata": {},
   "outputs": [],
   "source": [
    "def fib_r(i):\n",
    "    if(i <= 1):\n",
    "        return i\n",
    "    return fib_r(i-1) + fib_r(i-2)"
   ]
  },
  {
   "cell_type": "markdown",
   "metadata": {},
   "source": [
    "Measure the time to the first 5000 values of the fibonacci series"
   ]
  },
  {
   "cell_type": "code",
   "execution_count": 86,
   "metadata": {},
   "outputs": [],
   "source": [
    "cols = ['N','TimeRecursive', 'TimeIterative']\n",
    "df = pd.DataFrame(columns=cols)\n",
    "\n",
    "for i in range(20):\n",
    "    s = 'fib_i(' + str(i) + ')'\n",
    "    time_i = ti.timeit(s, number = 10, setup=\"from __main__ import fib_i\")\n",
    "    s = 'fib_r(' + str(i) + ')'\n",
    "    time_r = ti.timeit(s, number = 10, setup=\"from __main__ import fib_r\")\n",
    "    df = df.append({'N': i, 'TimeRecursive': time_r, 'TimeIterative': time_i}, ignore_index=True)"
   ]
  },
  {
   "cell_type": "markdown",
   "metadata": {},
   "source": [
    "Plot the results"
   ]
  },
  {
   "cell_type": "code",
   "execution_count": 87,
   "metadata": {},
   "outputs": [
    {
     "name": "stdout",
     "output_type": "stream",
     "text": [
      "Total elapsed time recursive: 0.03707197382937011 seconds.\n",
      "Total elapsed time iterative: 0.00045993970252311556 seconds.\n"
     ]
    },
    {
     "data": {
      "text/plain": [
       "<matplotlib.axes._subplots.AxesSubplot at 0x122222c6208>"
      ]
     },
     "execution_count": 87,
     "metadata": {},
     "output_type": "execute_result"
    },
    {
     "data": {
      "image/png": "[encoded data removed]",
      "text/plain": [
       "<Figure size 720x360 with 1 Axes>"
      ]
     },
     "metadata": {},
     "output_type": "display_data"
    }
   ],
   "source": [
    "print(\"Total elapsed time recursive: {0} seconds.\\nTotal elapsed time iterative: {1} seconds.\"\n",
    "      .format(df.sum()['TimeRecursive'], df.sum()['TimeIterative']))\n",
    "\n",
    "df.plot(x='N', y=['TimeRecursive', 'TimeIterative'], figsize=(10,5))"
   ]
  },
  {
   "cell_type": "code",
   "execution_count": null,
   "metadata": {},
   "outputs": [],
   "source": []
  }
 ],
 "metadata": {
  "kernelspec": {
   "display_name": "Python 3",
   "language": "python",
   "name": "python3"
  },
  "language_info": {
   "codemirror_mode": {
    "name": "ipython",
    "version": 3
   },
   "file_extension": ".py",
   "mimetype": "text/x-python",
   "name": "python",
   "nbconvert_exporter": "python",
   "pygments_lexer": "ipython3",
   "version": "3.6.5"
  }
 },
 "nbformat": 4,
 "nbformat_minor": 2
}
