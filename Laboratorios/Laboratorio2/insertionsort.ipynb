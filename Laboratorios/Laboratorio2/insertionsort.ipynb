{
 "cells": [
  {
   "cell_type": "markdown",
   "metadata": {
    "collapsed": true
   },
   "source": [
    "# Insertion Sort"
   ]
  },
  {
   "cell_type": "markdown",
   "metadata": {},
   "source": [
    "Import itertools to generate *permutations* on lists, random to generate the test sets for the *time complexity analysis* and numpy to have available useful mathematical functions. Also, pandas and matplotlib was imported to plot the data in experiments."
   ]
  },
  {
   "cell_type": "code",
   "execution_count": 7,
   "metadata": {},
   "outputs": [],
   "source": [
    "%matplotlib inline\n",
    "import itertools as it\n",
    "import numpy as np\n",
    "import random as rnd\n",
    "from IPython.display import display\n",
    "import pandas as pd\n",
    "import matplotlib.pyplot as plt\n",
    "import timeit as ti"
   ]
  },
  {
   "cell_type": "markdown",
   "metadata": {},
   "source": [
    "Implementation of Insertion Sort Algorithm."
   ]
  },
  {
   "cell_type": "code",
   "execution_count": 8,
   "metadata": {},
   "outputs": [],
   "source": [
    "def insertion_sort(arr):    \n",
    "    for j in range(1, len(arr)):\n",
    "        x = arr[j]\n",
    "        i = j - 1\n",
    "        while(i >= 0 and arr[i] >= x):\n",
    "            arr[i + 1] = arr[i]\n",
    "            i = i - 1\n",
    "            \n",
    "        arr[i + 1] = x\n",
    "    return arr\n",
    "    \n",
    "def insertion_sort_count(arr):\n",
    "    lines, comparisions, swaps, querys = [0]*4\n",
    "    \n",
    "    for j in range(1, len(arr)):\n",
    "        lines += 3\n",
    "        comparisions += 1\n",
    "        i = j - 1\n",
    "        x = arr[j]\n",
    "        while(arr[i] >= x and i >= 0):\n",
    "            querys += 1\n",
    "            comparisions += 3\n",
    "            lines +=3\n",
    "            arr[i + 1] = arr[i]\n",
    "            swaps += 1\n",
    "            i = i - 1\n",
    "        lines += 1\n",
    "        swaps += 1\n",
    "        arr[i + 1] = x    \n",
    "    lines +=2\n",
    "    return (lines, comparisions, swaps, querys)"
   ]
  },
  {
   "cell_type": "markdown",
   "metadata": {},
   "source": [
    "Test the algorithm with a test array ([1,2,3,4,5]) and all its permutations and check the results."
   ]
  },
  {
   "cell_type": "code",
   "execution_count": 9,
   "metadata": {},
   "outputs": [
    {
     "name": "stdout",
     "output_type": "stream",
     "text": [
      "Insertion sort works good\n"
     ]
    }
   ],
   "source": [
    "sorted_array = [1,2,3,4,5]\n",
    "test = list(it.permutations(sorted_array))\n",
    "test_passed = True\n",
    "\n",
    "for i in range(len(test)):\n",
    "    if sorted_array != insertion_sort(list(test[i])):\n",
    "        test_passed = False\n",
    "        break;\n",
    "        \n",
    "if(test_passed):\n",
    "    print (\"Insertion sort works good\")\n",
    "else:\n",
    "    print (\"Wrong Answer in insertion sort\")"
   ]
  },
  {
   "cell_type": "markdown",
   "metadata": {},
   "source": [
    "## Time complexity"
   ]
  },
  {
   "cell_type": "markdown",
   "metadata": {},
   "source": [
    "Recursive function that generates all permutations of an array or list and returns the result in the list *r*. This code was based in a code of Daniel Jimenez from his 1998 algorithms class at The University of Texas at San Antonio now his in Rutgers University. [The code is available here](http://camino.rutgers.edu/ut/utsa/cs3343/index.html)"
   ]
  },
  {
   "cell_type": "code",
   "execution_count": 10,
   "metadata": {},
   "outputs": [],
   "source": [
    "def swap (v, i, j):\n",
    "    v[i], v[j] = v[j], v[i]\n",
    "    return v\n",
    "\n",
    "def perm(v, i, n, r):\n",
    "    j, k, l = [0]*3\n",
    "    if i == n :\n",
    "        r.append(v.copy())\n",
    "        \n",
    "    else:\n",
    "        for j in range(i,n):\n",
    "            swap (v, i, j);\n",
    "            perm (v, i + 1, n, r);\n",
    "            swap (v, i, j)"
   ]
  },
  {
   "cell_type": "markdown",
   "metadata": {},
   "source": [
    "Now, the ***itertool.permutations*** and ***perm*** functions will be tested for large values to see your performance in time and memory usage."
   ]
  },
  {
   "cell_type": "code",
   "execution_count": 11,
   "metadata": {},
   "outputs": [
    {
     "name": "stdout",
     "output_type": "stream",
     "text": [
      "[294, 885, 566, 403, 292, 426, 660, 618, 864, 614, 659]\n"
     ]
    },
    {
     "name": "stdout",
     "output_type": "stream",
     "text": [
      "Time itertools:  19.890257520000887  - Time perm: 218.1195765270022\n"
     ]
    }
   ],
   "source": [
    "n = 11\n",
    "testing_array = list(rnd.sample(range(1000), n))\n",
    "res = []\n",
    "#perm(testing_array, 0, len(testing_array), res)\n",
    "#print(res[len(res) - 1])\n",
    "\n",
    "print(testing_array)\n",
    "time_r1 = ti.timeit(\"list(permutations(\"+ str(testing_array) + \"))\", number = 2, setup=\"from itertools import permutations\")\n",
    "time_r2 = ti.timeit(\"perm(\"+ str(testing_array) + \", 0, \" + str(len(testing_array)) + \",[])\", number = 2, setup=\"from __main__ import perm\")\n",
    "print(\"Time itertools: \", time_r1, \" - Time perm:\", time_r2)"
   ]
  },
  {
   "cell_type": "markdown",
   "metadata": {},
   "source": [
    "The permutation do $n!$ operations, so for $n = 12$ the machine will have to find $479001600$ permutations. It isn't possible to obtain the time for the function for this value with *timeit* because when you try it, you will get an error message related with lack of memory.  \n",
    "For both functions, de average time of execution is above. The function in *itertools* is 23 times more fast, approximately, than the recursive function of Daniel Jimenez."
   ]
  },
  {
   "cell_type": "markdown",
   "metadata": {},
   "source": [
    "Now, a count of the operations within the Insertion Sort will be done, taking all the permutations of a random array with size $n$. The operations to be counted will be: the number of lines executed, the comparisions, swaps and queries within the While Loop. With this information a histogram will be displayed where the distribution of the data set and the average values can be observed."
   ]
  },
  {
   "cell_type": "code",
   "execution_count": 12,
   "metadata": {},
   "outputs": [
    {
     "name": "stdout",
     "output_type": "stream",
     "text": [
      "Averages\n"
     ]
    },
    {
     "data": {
      "text/plain": [
       "Lines           33\nComparisions    19\nSwaps            9\nQuerys           5\ndtype: float64"
      ]
     },
     "execution_count": 0,
     "metadata": {},
     "output_type": "execute_result"
    }
   ],
   "source": [
    "n = 5\n",
    "base_array = list(rnd.sample(range(1000), n))\n",
    "permutations = list(it.permutations(base_array))\n",
    "\n",
    "results = []\n",
    "for i in range(len(permutations)):\n",
    "    results.append(list(insertion_sort_count(list(permutations[i]))))\n",
    "\n",
    "results = pd.DataFrame(results, columns=['Lines','Comparisions','Swaps','Querys'])\n",
    "print(\"Averages\")\n",
    "display(results.mean())"
   ]
  },
  {
   "cell_type": "code",
   "execution_count": 13,
   "metadata": {},
   "outputs": [
    {
     "data": {
      "text/plain": [
       "<Figure size 432x288 with 0 Axes>"
      ]
     },
     "execution_count": 0,
     "metadata": {},
     "output_type": "execute_result"
    },
    {
     "data": {
      "image/png": "[encoded data removed]",
      "text/plain": [
       "<Figure size 1080x504 with 4 Axes>"
      ]
     },
     "metadata": {},
     "output_type": "display_data"
    }
   ],
   "source": [
    "plt.figure()\n",
    "fig, axes = plt.subplots(2,2,figsize=(15,7))\n",
    "results.hist(ax = axes[0,0], column='Lines', grid=True)\n",
    "results.hist(ax = axes[0,1], column='Comparisions')\n",
    "results.hist(ax = axes[1,0], column='Swaps')\n",
    "results.hist(ax = axes[1,1], column='Querys')\n",
    "plt.show()"
   ]
  }
 ],
 "metadata": {
  "kernelspec": {
   "display_name": "Python 2",
   "language": "python",
   "name": "python2"
  },
  "language_info": {
   "codemirror_mode": {
    "name": "ipython",
    "version": 3
   },
   "file_extension": ".py",
   "mimetype": "text/x-python",
   "name": "python",
   "nbconvert_exporter": "python",
   "pygments_lexer": "ipython3",
   "version": "3.5.2"
  }
 },
 "nbformat": 4,
 "nbformat_minor": 1
}
