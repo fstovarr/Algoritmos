{
 "cells": [
  {
   "cell_type": "markdown",
   "metadata": {},
   "source": [
    "# Time for Fibonacci series"
   ]
  },
  {
   "cell_type": "markdown",
   "metadata": {},
   "source": [
    "Import the need libraries for time and plot"
   ]
  },
  {
   "cell_type": "code",
   "execution_count": 17,
   "metadata": {},
   "outputs": [],
   "source": [
    "%matplotlib inline\n",
    "from time import time\n",
    "import pandas as pd\n",
    "import timeit as ti\n",
    "import matplotlib.pyplot as plt"
   ]
  },
  {
   "cell_type": "markdown",
   "metadata": {},
   "source": [
    "Define the fibonacci function in a iterative way"
   ]
  },
  {
   "cell_type": "code",
   "execution_count": 2,
   "metadata": {},
   "outputs": [],
   "source": [
    "def fib_i(i):\n",
    "    prev, act = 0, 1;\n",
    "    res = int(0);\n",
    "    \n",
    "    for j in range(0,i):\n",
    "        res = int(prev + act)\n",
    "        prev = act\n",
    "        act = res\n",
    "    \n",
    "    return int(res)"
   ]
  },
  {
   "cell_type": "markdown",
   "metadata": {},
   "source": [
    "Define the fibonacci function in a recursive way"
   ]
  },
  {
   "cell_type": "code",
   "execution_count": 3,
   "metadata": {},
   "outputs": [],
   "source": [
    "def fib_r(i):\n",
    "    if(i <= 1):\n",
    "        return i\n",
    "    return fib_r(i-1) + fib_r(i-2)"
   ]
  },
  {
   "cell_type": "markdown",
   "metadata": {},
   "source": [
    "Measure the time to the first 30 values of the fibonacci series"
   ]
  },
  {
   "cell_type": "code",
   "execution_count": 4,
   "metadata": {},
   "outputs": [],
   "source": [
    "cols = ['N','TimeRecursive', 'TimeIterative']\n",
    "df = pd.DataFrame(columns=cols)\n",
    "\n",
    "for i in range(30):\n",
    "    s = 'fib_i(' + str(i) + ')'\n",
    "    time_i = ti.timeit(s, number = 10, setup=\"from __main__ import fib_i\")\n",
    "    s = 'fib_r(' + str(i) + ')'\n",
    "    time_r = ti.timeit(s, number = 10, setup=\"from __main__ import fib_r\")\n",
    "    df = df.append({'N': i, 'TimeRecursive': time_r, 'TimeIterative': time_i}, ignore_index=True)"
   ]
  },
  {
   "cell_type": "markdown",
   "metadata": {},
   "source": [
    "Plot the results"
   ]
  },
  {
   "cell_type": "code",
   "execution_count": 44,
   "metadata": {},
   "outputs": [
    {
     "name": "stdout",
     "output_type": "stream",
     "text": [
      "Total elapsed time recursive: 5.29766821861 seconds.\n",
      "Total elapsed time iterative: 0.00108623504639 seconds.\n"
     ]
    },
    {
     "data": {
      "text/plain": [
       "<matplotlib.text.Text at 0x7fc506cbc450>"
      ]
     },
     "execution_count": 44,
     "metadata": {},
     "output_type": "execute_result"
    },
    {
     "data": {
      "text/plain": [
       "<matplotlib.figure.Figure at 0x7fc5071f0ad0>"
      ]
     },
     "metadata": {},
     "output_type": "display_data"
    },
    {
     "data": {
      "image/png": "[encoded data removed]",
      "text/plain": [
       "<matplotlib.figure.Figure at 0x7fc506d73590>"
      ]
     },
     "metadata": {},
     "output_type": "display_data"
    }
   ],
   "source": [
    "print(\"Total elapsed time recursive: {0} seconds.\\nTotal elapsed time iterative: {1} seconds.\"\n",
    "      .format(df.sum()['TimeRecursive'], df.sum()['TimeIterative']))\n",
    "\n",
    "plt.figure(figsize=(15,7))\n",
    "df.plot(x='N', y=['TimeRecursive', 'TimeIterative'], figsize=(15,7), linewidth=4)\n",
    "\n",
    "plt.ylim(-0.5, 2.5)\n",
    "plt.title(\"Fibonacci Recursive vs Fibonacci Iterative\")\n",
    "plt.xlabel(\"Fibonacci term\")\n",
    "plt.ylabel(\"Seconds\")"
   ]
  },
  {
   "cell_type": "code",
   "execution_count": null,
   "metadata": {},
   "outputs": [],
   "source": []
  }
 ],
 "metadata": {
  "kernelspec": {
   "display_name": "Python 2",
   "language": "python",
   "name": "python2"
  },
  "language_info": {
   "codemirror_mode": {
    "name": "ipython",
    "version": 2
   },
   "file_extension": ".py",
   "mimetype": "text/x-python",
   "name": "python",
   "nbconvert_exporter": "python",
   "pygments_lexer": "ipython2",
   "version": "2.7.12"
  }
 },
 "nbformat": 4,
 "nbformat_minor": 2
}
