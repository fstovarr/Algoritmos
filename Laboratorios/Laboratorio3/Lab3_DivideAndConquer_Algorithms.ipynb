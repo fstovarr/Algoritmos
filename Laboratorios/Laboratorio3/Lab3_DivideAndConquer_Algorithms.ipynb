{
  "nbformat": 4,
  "nbformat_minor": 0,
  "metadata": {
    "colab": {
      "name": "Lab3-DivideAndConquer-Algorithms.ipynb",
      "version": "0.3.2",
      "provenance": []
    },
    "kernelspec": {
      "name": "python2",
      "display_name": "Python 2"
    }
  },
  "cells": [
    {
      "metadata": {
        "id": "UjRboGmC8Cj2",
        "colab_type": "text"
      },
      "cell_type": "markdown",
      "source": [
        "# Inversions"
      ]
    },
    {
      "metadata": {
        "id": "04T-KCpbRie7",
        "colab_type": "code",
        "colab": {
          "base_uri": "https://localhost:8080/",
          "height": 226
        },
        "outputId": "c9edf828-84f0-42cb-f979-fef5473fbecd"
      },
      "cell_type": "code",
      "source": [
        "!wget -c https://he-s3.s3.amazonaws.com/media/hackathon/question-for-new-practice-section/problems/f9b755d2-5-input-f9b6ca6.txt -O input.txt"
      ],
      "execution_count": 1,
      "outputs": [
        {
          "output_type": "stream",
          "text": [
            "--2018-10-17 14:01:26--  https://he-s3.s3.amazonaws.com/media/hackathon/question-for-new-practice-section/problems/f9b755d2-5-input-f9b6ca6.txt\n",
            "Resolving he-s3.s3.amazonaws.com (he-s3.s3.amazonaws.com)... 52.219.36.60\n",
            "Connecting to he-s3.s3.amazonaws.com (he-s3.s3.amazonaws.com)|52.219.36.60|:443... connected.\n",
            "HTTP request sent, awaiting response... 200 OK\n",
            "Length: 6888635 (6.6M) [text/plain]\n",
            "Saving to: ‘input.txt’\n",
            "\n",
            "input.txt           100%[===================>]   6.57M  1.83MB/s    in 6.0s    \n",
            "\n",
            "2018-10-17 14:01:32 (1.10 MB/s) - ‘input.txt’ saved [6888635/6888635]\n",
            "\n"
          ],
          "name": "stdout"
        }
      ]
    },
    {
      "metadata": {
        "id": "_7mx8JPnWvhy",
        "colab_type": "code",
        "colab": {}
      },
      "cell_type": "code",
      "source": [
        "import sys\n",
        "import timeit as ti\n",
        "import functools"
      ],
      "execution_count": 0,
      "outputs": []
    },
    {
      "metadata": {
        "id": "cRpyFxb38IxD",
        "colab_type": "text"
      },
      "cell_type": "markdown",
      "source": [
        "## Brute force"
      ]
    },
    {
      "metadata": {
        "id": "gODuJZZ379Vo",
        "colab_type": "code",
        "colab": {}
      },
      "cell_type": "code",
      "source": [
        "def counter(x):\n",
        "  ans = 0\n",
        "  for i in range(len(x)):\n",
        "    for j in range(i, len(x)):\n",
        "        if(i < j and x[i] > x[j]):\n",
        "            ans += 1\n",
        "  return ans"
      ],
      "execution_count": 0,
      "outputs": []
    },
    {
      "metadata": {
        "id": "yqXhq5fkWHHI",
        "colab_type": "text"
      },
      "cell_type": "markdown",
      "source": [
        "Use the file  `input.txt` with the HackerEarth test case as standard input."
      ]
    },
    {
      "metadata": {
        "id": "AulYyDM4AFRf",
        "colab_type": "code",
        "colab": {}
      },
      "cell_type": "code",
      "source": [
        "sys.stdin = open('input.txt','r')\n",
        "n = int(sys.stdin.readline())\n",
        "x = list(map(int, sys.stdin.readline().split()))\n",
        "#x = [1,2,3,4,5]\n",
        "t = ti.Timer(functools.partial(counter, x))\n",
        "print t.timeit(1)"
      ],
      "execution_count": 0,
      "outputs": []
    },
    {
      "metadata": {
        "id": "6CBGNt1AjCxj",
        "colab_type": "text"
      },
      "cell_type": "markdown",
      "source": [
        "Using $10^5$ sorted increasing numbers."
      ]
    },
    {
      "metadata": {
        "id": "SBYE-Fj3hv6c",
        "colab_type": "code",
        "colab": {
          "base_uri": "https://localhost:8080/",
          "height": 36
        },
        "outputId": "f618a166-8a6a-4e00-d9bc-c1e1e2e1fc4c"
      },
      "cell_type": "code",
      "source": [
        "x = [i for i in range(0, 100000)]\n",
        "t = ti.Timer(functools.partial(counter, x))\n",
        "print t.timeit(1)"
      ],
      "execution_count": 51,
      "outputs": [
        {
          "output_type": "stream",
          "text": [
            "1738.90022111\n"
          ],
          "name": "stdout"
        }
      ]
    },
    {
      "metadata": {
        "id": "NkhbGJOjjSon",
        "colab_type": "text"
      },
      "cell_type": "markdown",
      "source": [
        "Using $10^5$ sorted dencreasing numbers."
      ]
    },
    {
      "metadata": {
        "id": "KgnOu9TEiQJK",
        "colab_type": "code",
        "colab": {
          "base_uri": "https://localhost:8080/",
          "height": 36
        },
        "outputId": "88f3c2ed-83fd-4006-d419-f550f29fa9ba"
      },
      "cell_type": "code",
      "source": [
        "x = [i for i in xrange(100000, 0, -1)]\n",
        "t = ti.Timer(functools.partial(counter, x))\n",
        "print t.timeit(1)"
      ],
      "execution_count": 52,
      "outputs": [
        {
          "output_type": "stream",
          "text": [
            "2092.15604901\n"
          ],
          "name": "stdout"
        }
      ]
    },
    {
      "metadata": {
        "id": "VWDcFgUU8LpK",
        "colab_type": "text"
      },
      "cell_type": "markdown",
      "source": [
        "## Divide and Conquer"
      ]
    },
    {
      "metadata": {
        "id": "6SpB1Akl8QtN",
        "colab_type": "code",
        "colab": {}
      },
      "cell_type": "code",
      "source": [
        "def merge_sort(A, start, end):\n",
        "    if(start < end):\n",
        "        mid = (start + end) // 2\n",
        "        merge_sort (A, start, mid)\n",
        "        merge_sort (A, mid+1, end)\n",
        "        merge(A, start, mid, end)\n",
        "\n",
        "def merge(A, start, mid, end):\n",
        "    p = start\n",
        "    q = mid+1\n",
        "    Arr = [0] * (end-start+1)\n",
        "    k = 0\n",
        "\n",
        "    for i in range (start, end + 1):\n",
        "        if(p > mid):\n",
        "            Arr[k] = A[q];\n",
        "            k += 1\n",
        "            q += 1\n",
        "        elif(q > end):\n",
        "            Arr[k] = A[p]\n",
        "            k += 1\n",
        "            p += 1\n",
        "        elif(A[p] <= A[q]):\n",
        "            Arr[k] = A[p]\n",
        "            k += 1\n",
        "            p += 1\n",
        "        else:\n",
        "            global counter\n",
        "            counter += (mid + 1 - p)\n",
        "            Arr[k] = A[q]\n",
        "            k += 1\n",
        "            q += 1\n",
        "\n",
        "    for p in range (k):\n",
        "        A[start] = Arr[p]\n",
        "        start += 1"
      ],
      "execution_count": 0,
      "outputs": []
    },
    {
      "metadata": {
        "id": "9z5dUHFh8fHG",
        "colab_type": "code",
        "colab": {
          "base_uri": "https://localhost:8080/",
          "height": 36
        },
        "outputId": "4ab868ba-873d-48be-ae36-b716fbf8087d"
      },
      "cell_type": "code",
      "source": [
        "global counter\n",
        "counter = 0;\n",
        "\n",
        "sys.stdin = open('input.txt','r')\n",
        "n = int(sys.stdin.readline())\n",
        "A = list(map(int, sys.stdin.readline().split()))\n",
        "\n",
        "t = ti.Timer(functools.partial(merge_sort, A, 0, n-1))\n",
        "print t.timeit(5)"
      ],
      "execution_count": 46,
      "outputs": [
        {
          "output_type": "stream",
          "text": [
            "43.2113800049\n"
          ],
          "name": "stdout"
        }
      ]
    },
    {
      "metadata": {
        "id": "6ovrA0xCjlqR",
        "colab_type": "code",
        "colab": {
          "base_uri": "https://localhost:8080/",
          "height": 36
        },
        "outputId": "b08eabeb-9b54-4ddb-fb12-c5d7aa5e38d8"
      },
      "cell_type": "code",
      "source": [
        "global counter\n",
        "counter = 0;\n",
        "\n",
        "n = 100000\n",
        "A = [i for i in range(0,100000)]\n",
        "\n",
        "t = ti.Timer(functools.partial(merge_sort, A, 0, n-1))\n",
        "print t.timeit(5)"
      ],
      "execution_count": 47,
      "outputs": [
        {
          "output_type": "stream",
          "text": [
            "3.46629881859\n"
          ],
          "name": "stdout"
        }
      ]
    },
    {
      "metadata": {
        "id": "Wx4b5XW5jwXd",
        "colab_type": "code",
        "colab": {
          "base_uri": "https://localhost:8080/",
          "height": 36
        },
        "outputId": "3bbfad89-fed1-4173-df6d-34f4134a4cce"
      },
      "cell_type": "code",
      "source": [
        "global counter\n",
        "counter = 0;\n",
        "\n",
        "n = 100000\n",
        "A = [i for i in xrange(100000, 0, -1)]\n",
        "\n",
        "t = ti.Timer(functools.partial(merge_sort, A, 0, n-1))\n",
        "print t.timeit(5)"
      ],
      "execution_count": 48,
      "outputs": [
        {
          "output_type": "stream",
          "text": [
            "3.08641386032\n"
          ],
          "name": "stdout"
        }
      ]
    }
  ]
}